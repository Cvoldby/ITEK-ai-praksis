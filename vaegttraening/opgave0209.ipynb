{
 "cells": [
  {
   "cell_type": "markdown",
   "id": "7fefc04f",
   "metadata": {},
   "source": [
    "Opgave\n",
    "====\n",
    "\n",
    "\n",
    "Med to inputs $x_1$ og $x_2$ og et output $y$.\n",
    "\n",
    "$$\n",
    "\\text{output} = \n",
    "\\begin{cases}\n",
    "1 & \\text{ if } x_1+x_2 \\geq 0 \\\\\n",
    "0 & \\text{ if } x_1+x_2 < 0 \n",
    "\\end{cases}\n",
    "$$\n",
    "\n",
    "Udtænkt værdier for $w_1, w_2$ og threshold, der opfylder således at:\n",
    "\n",
    "$$\n",
    "\\text{output} = \n",
    "\\begin{cases}\n",
    "1 & \\text{ if } \\sum x_i\\cdot w_i \\geq 0 \\\\\n",
    "0 & \\text{ if } \\sum x_i\\cdot w_i < 0 \n",
    "\\end{cases}\n",
    "$$\n",
    "\n"
   ]
  },
  {
   "cell_type": "code",
   "execution_count": 1,
   "id": "bfa3124e",
   "metadata": {},
   "outputs": [],
   "source": [
    "import numpy as np\n",
    "#import matplotlib.pyplot as plt\n",
    "\n"
   ]
  },
  {
   "cell_type": "code",
   "execution_count": 2,
   "id": "a0950909",
   "metadata": {},
   "outputs": [
    {
     "data": {
      "text/plain": [
       "{(0, 0, 0): 0,\n",
       " (0, 0, 1): 0,\n",
       " (0, 1, 0): 0,\n",
       " (0, 1, 1): 0,\n",
       " (1, 0, 0): 0,\n",
       " (1, 0, 1): 0,\n",
       " (1, 1, 0): 1,\n",
       " (1, 1, 1): 1}"
      ]
     },
     "execution_count": 2,
     "metadata": {},
     "output_type": "execute_result"
    }
   ],
   "source": [
    "def weight_calculator(X, Weights, bias):\n",
    "    XW = X@Weights-bias\n",
    "    \n",
    "    return 1 if XW >= 0 else 0\n",
    "\n",
    "def x_table(W, bias):\n",
    "    outputs = {}\n",
    "    for x1 in range(2):\n",
    "        for x2 in range(2):\n",
    "            for x3 in range(2):\n",
    "                X = np.array([x1, x2, x3])\n",
    "                \n",
    "                outputs[x1,x2,x3] = weight_calculator(X, W, bias)\n",
    "\n",
    "    return outputs\n",
    "\n",
    "\n",
    "## X = np.array([1, 0, .4])\n",
    "W = np.array([2, 2, 1])\n",
    "bias = 3.9\n",
    "#weight_calculator(X, W, bias)\n",
    "\n",
    "x_table(W, bias)"
   ]
  },
  {
   "cell_type": "code",
   "execution_count": 6,
   "id": "4bd7944d",
   "metadata": {},
   "outputs": [
    {
     "data": {
      "text/plain": [
       "({(0, 0, 0): 0,\n",
       "  (0, 0, 1): 0,\n",
       "  (0, 1, 0): 0,\n",
       "  (0, 1, 1): 0,\n",
       "  (1, 0, 0): 0,\n",
       "  (1, 0, 1): 0,\n",
       "  (1, 1, 0): 0,\n",
       "  (1, 1, 1): 1},\n",
       " {(0, 0, 0): 1,\n",
       "  (0, 0, 1): 0,\n",
       "  (0, 1, 0): 0,\n",
       "  (0, 1, 1): 0,\n",
       "  (1, 0, 0): 0,\n",
       "  (1, 0, 1): 0,\n",
       "  (1, 1, 0): 0,\n",
       "  (1, 1, 1): 0},\n",
       " {(0, 0, 0): (0, 1, 1),\n",
       "  (0, 0, 1): (0, 0, 0),\n",
       "  (0, 1, 0): (0, 0, 0),\n",
       "  (0, 1, 1): (0, 0, 0),\n",
       "  (1, 0, 0): (0, 0, 0),\n",
       "  (1, 0, 1): (0, 0, 0),\n",
       "  (1, 1, 0): (0, 0, 0),\n",
       "  (1, 1, 1): (1, 0, 1)})"
      ]
     },
     "execution_count": 6,
     "metadata": {},
     "output_type": "execute_result"
    }
   ],
   "source": [
    "def three_two_one_network(W_hl, W_ol, biases):\n",
    "    output_N1 = {}\n",
    "    outout_N2 = {}\n",
    "    outputs = {}\n",
    "    for x1 in range(2):\n",
    "        for x2 in range(2):\n",
    "            for x3 in range(2):\n",
    "                X = np.array([x1, x2, x3])\n",
    "                xw1 = weight_calculator(X, W_hl[0], biases[0])\n",
    "                output_N1[x1, x2, x3] = xw1\n",
    "                \n",
    "                xw2 = weight_calculator(X, W_hl[1], biases[1])\n",
    "                outout_N2[x1, x2, x3] = xw2\n",
    "                \n",
    "                xw3 = np.array([xw1, xw2])\n",
    "                outputs[x1, x2, x3] = xw1, xw2, weight_calculator(xw3, W_ol, biases[2])\n",
    "    return output_N1, outout_N2, outputs\n",
    "\n",
    "W_hl = np.array([[1, 1, 1],\n",
    "             [-1, -1, -1]])\n",
    "W_ol = np.array([1, 1])\n",
    "biases = [2.5, -0.5, 0.5]\n",
    "three_two_one_network(W_hl, W_ol, biases)"
   ]
  },
  {
   "cell_type": "markdown",
   "id": "52cef092",
   "metadata": {},
   "source": [
    "## Playground exercise\n",
    "\n",
    "Noter loss\n",
    "\n",
    "\n",
    "|  **Two neurons**  | **Test loss** | **Training loss** |\n",
    "|:-----------------:|:-------------:|:-----------------:|\n",
    "|         1         |       0.238       |         0.169         |\n",
    "|         2         |       0.257       |         0.254         |\n",
    "|         3         |       0.268       |         0.246         |\n",
    "|         4         |       0.257       |         0.254         |\n",
    "|         5         |       0.185       |         0.164         |\n",
    "| **Three Neurons** |               |                   |\n",
    "|         1         |       0.009       |         0.000         |\n",
    "|         2         |       0.247       |         0.254         |\n",
    "|         3         |       0.273        |        0.247           |\n",
    "|         4         |       0.238        |        0.169           |\n",
    "|         5         |       0.002        |        0.000           |"
   ]
  }
 ],
 "metadata": {
  "kernelspec": {
   "display_name": "Python 3 (ipykernel)",
   "language": "python",
   "name": "python3"
  },
  "language_info": {
   "codemirror_mode": {
    "name": "ipython",
    "version": 3
   },
   "file_extension": ".py",
   "mimetype": "text/x-python",
   "name": "python",
   "nbconvert_exporter": "python",
   "pygments_lexer": "ipython3",
   "version": "3.9.7"
  }
 },
 "nbformat": 4,
 "nbformat_minor": 5
}
