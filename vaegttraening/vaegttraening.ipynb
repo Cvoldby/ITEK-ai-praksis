{
 "cells": [
  {
   "cell_type": "markdown",
   "metadata": {},
   "source": [
    "Exercise - Vægttræning\n",
    "====\n",
    "\n",
    "Disse opgaver i vægtudregning skal give indblik i hvordan vægtene i et neuralt netværk påvirker inputtet.\n",
    "\n",
    "Gennem øvelserne skal følgende formel anvendes\n",
    "$$\n",
    "\\sum_j w_j\\cdot x_j\n",
    "$$\n",
    "hvor\n",
    "$$\n",
    "\\text{output}=\n",
    " \\begin{cases}\n",
    "0 & \\text{ if } x= \\sum_j w_j\\cdot x_j \\leq \\text{threshold}\\\\\n",
    "1 & \\text{ if } x= \\sum_j w_j\\cdot x_j > \\text{threshold}\n",
    "\\end{cases}\n",
    "$$"
   ]
  },
  {
   "cell_type": "markdown",
   "metadata": {},
   "source": [
    "## Opgave 1\n",
    "\n",
    "Beregn output, når\n",
    "$$\n",
    "\\begin{align*}\n",
    "x_1 &= 1\\\\\n",
    "x_2 &= 0\\\\\n",
    "x_3 &= 0.4\\\\\n",
    "w_1 &= 1\\\\\n",
    "w_2 &= 1\\\\\n",
    "w_3 &= 0.7\\\\\n",
    "\\text{threshold} &= 0.67\n",
    "\\end{align*}\n",
    "$$"
   ]
  },
  {
   "cell_type": "code",
   "execution_count": 1,
   "metadata": {},
   "outputs": [
    {
     "name": "stdout",
     "output_type": "stream",
     "text": [
      "1\n"
     ]
    }
   ],
   "source": [
    "def weight_calculator(X, W, threshold):\n",
    "    \"\"\"\n",
    "    Denne funktion udregner outputtet givet et input og tilhørende vægte.\n",
    "    \"\"\"\n",
    "    sum_wx = 0\n",
    "    for idx, x in enumerate(X):\n",
    "        sum_wx += x*W[idx]\n",
    "    \n",
    "    if sum_wx > threshold:\n",
    "        return 1\n",
    "    else:\n",
    "        return 0\n",
    "\n",
    "x1, x2, x3 = 1, 0, .4\n",
    "w1, w2, w3 = 1, 1, .7\n",
    "X = [x1, x2, x3]\n",
    "W = [w1, w2, w3]\n",
    "threshold = .67\n",
    "print(weight_calculator(X, W, threshold))"
   ]
  },
  {
   "cell_type": "markdown",
   "metadata": {},
   "source": [
    "Således kan det ses at output $=1$"
   ]
  },
  {
   "cell_type": "markdown",
   "metadata": {},
   "source": [
    "## Opgave 2\n",
    "\n",
    "Beregn output, når\n",
    "$$\n",
    "\\begin{align*}\n",
    "x_1 &= 1\\\\\n",
    "x_2 &= 0\\\\\n",
    "x_3 &= 0.4\\\\\n",
    "w_1 &= -1\\\\\n",
    "w_2 &= 1\\\\\n",
    "w_3 &= -0.35\\\\\n",
    "\\text{threshold} &= 0.1\n",
    "\\end{align*}\n",
    "$$"
   ]
  },
  {
   "cell_type": "code",
   "execution_count": 2,
   "metadata": {},
   "outputs": [
    {
     "name": "stdout",
     "output_type": "stream",
     "text": [
      "0\n"
     ]
    }
   ],
   "source": [
    "# Using the previous function\n",
    "x1, x2, x3 = 1, 0, .4\n",
    "w1, w2, w3 = -1, 1, -.35\n",
    "X = [x1, x2, x3]\n",
    "W = [w1, w2, w3]\n",
    "threshold = .1\n",
    "print(weight_calculator(X, W, threshold))"
   ]
  },
  {
   "cell_type": "markdown",
   "metadata": {},
   "source": [
    "## Exercise 3\n",
    "Beregn output, når\n",
    "$$\n",
    "\\begin{align*}\n",
    "w_1 &= 1\\\\\n",
    "w_2 &= 1\\\\\n",
    "w_3 &= 1\\\\\n",
    "\\text{threshold} &= 2.5\n",
    "\\end{align*}\n",
    "$$"
   ]
  },
  {
   "cell_type": "code",
   "execution_count": 3,
   "metadata": {},
   "outputs": [
    {
     "name": "stdout",
     "output_type": "stream",
     "text": [
      "{(0, 0, 0): 0, (0, 0, 1): 0, (0, 1, 0): 0, (0, 1, 1): 0, (1, 0, 0): 0, (1, 0, 1): 0, (1, 1, 0): 0, (1, 1, 1): 1}\n"
     ]
    }
   ],
   "source": [
    "def x_tables(W, threshold):    \n",
    "    \"\"\"\n",
    "    Denne funktion udregner x-tabellen.\n",
    "    \"\"\"\n",
    "    outputs = {}\n",
    "    for x1 in range(2):\n",
    "        for x2 in range(2):\n",
    "            for x3 in range(2):\n",
    "                \n",
    "                outputs[x1,x2,x3] = weight_calculator([x1,x2,x3],W, threshold)\n",
    "\n",
    "    return outputs\n",
    "\n",
    "W = [1,1,1]\n",
    "threshold = 2.5\n",
    "print(x_tables(W, threshold))"
   ]
  },
  {
   "cell_type": "markdown",
   "metadata": {},
   "source": [
    "## Opgave 4\n",
    "\n",
    "Beregn output, når\n",
    "$$\n",
    "\\begin{align*}\n",
    "w_1 &= 2\\\\\n",
    "w_2 &= 2\\\\\n",
    "w_3 &= 1\\\\\n",
    "\\text{threshold} &= 4.1\n",
    "\\end{align*}\n",
    "$$"
   ]
  },
  {
   "cell_type": "code",
   "execution_count": 4,
   "metadata": {},
   "outputs": [
    {
     "name": "stdout",
     "output_type": "stream",
     "text": [
      "{(0, 0, 0): 0, (0, 0, 1): 0, (0, 1, 0): 0, (0, 1, 1): 0, (1, 0, 0): 0, (1, 0, 1): 0, (1, 1, 0): 0, (1, 1, 1): 1}\n"
     ]
    }
   ],
   "source": [
    "W = [2,2,1]\n",
    "threshold = 4.1\n",
    "print(x_tables(W, threshold))"
   ]
  },
  {
   "cell_type": "markdown",
   "metadata": {},
   "source": [
    "## Opgave 5\n",
    "\n",
    "Udtænk værdier for $w_1, w_2, w_3$ og threshold, der skal give følgende tabel:\n",
    "\n",
    "| x_1 | x_2 | x_3 | Output |\n",
    "|:---:|:---:|:---:|:------:|\n",
    "|  0  |  0  |  0  |    0   |\n",
    "|  0  |  0  |  1  |    0   |\n",
    "|  0  |  1  |  0  |    0   |\n",
    "|  1  |  0  |  0  |    0   |\n",
    "|  0  |  1  |  1  |    0   |\n",
    "|  1  |  0  |  1  |    0   |\n",
    "|  1  |  1  |  0  |    1   |\n",
    "|  1  |  1  |  1  |    1   |\n",
    "\n"
   ]
  },
  {
   "cell_type": "code",
   "execution_count": 5,
   "metadata": {},
   "outputs": [
    {
     "name": "stdout",
     "output_type": "stream",
     "text": [
      "('x1', 'x2', 'x3') output\n",
      "(0, 0, 0) 0\n",
      "(0, 0, 1) 0\n",
      "(0, 1, 0) 0\n",
      "(0, 1, 1) 0\n",
      "(1, 0, 0) 0\n",
      "(1, 0, 1) 0\n",
      "(1, 1, 0) 1\n",
      "(1, 1, 1) 1\n"
     ]
    }
   ],
   "source": [
    "W = [1,1,0]\n",
    "threshold = 1.1\n",
    "output = x_tables(W, threshold)\n",
    "print((\"x1\",\"x2\",\"x3\"), \"output\")\n",
    "for k in output:\n",
    "    print(k, output[k])"
   ]
  },
  {
   "cell_type": "markdown",
   "metadata": {},
   "source": [
    "## Opgave 6\n",
    "\n",
    "Udfordring: Lav et 3:2:1 netværk. Input er $x_1, x_2, x_3$. Det skal give følgende outputtabel:\n",
    "\n",
    "| x_1 | x_2 | x_3 | Output |\n",
    "|:---:|:---:|:---:|:------:|\n",
    "|  0  |  0  |  0  |    1   |\n",
    "|  0  |  0  |  1  |    0   |\n",
    "|  0  |  1  |  0  |    0   |\n",
    "|  1  |  0  |  0  |    0   |\n",
    "|  0  |  1  |  1  |    0   |\n",
    "|  1  |  0  |  1  |    0   |\n",
    "|  1  |  1  |  0  |    0   |\n",
    "|  1  |  1  |  1  |    1   |\n"
   ]
  },
  {
   "cell_type": "code",
   "execution_count": 6,
   "metadata": {},
   "outputs": [
    {
     "name": "stdout",
     "output_type": "stream",
     "text": [
      "('x1', 'x2', 'x3') output\n",
      "(0, 0, 0) 1\n",
      "(0, 0, 1) 0\n",
      "(0, 1, 0) 0\n",
      "(0, 1, 1) 0\n",
      "(1, 0, 0) 0\n",
      "(1, 0, 1) 0\n",
      "(1, 1, 0) 0\n",
      "(1, 1, 1) 1\n"
     ]
    }
   ],
   "source": [
    "def three_two_one_network(X, W1, W2, W3, threshold):\n",
    "    \"\"\"\n",
    "    Denne funktion udregner i 3:2:1 netværk.\n",
    "    \"\"\"\n",
    "    w1x = 0 #N1\n",
    "    \n",
    "    for idx, x in enumerate(X):\n",
    "        w1x += x*W1[idx]\n",
    "\n",
    "    if w1x > threshold[0]:\n",
    "        w1x = 1\n",
    "    else:\n",
    "        w1x = 0\n",
    "    #print(\"N1\", w1x)\n",
    "\n",
    "    w2x = 0\n",
    "    for idx, x in enumerate(X):\n",
    "        w2x += x*W2[idx]\n",
    "\n",
    "    if w2x > threshold[1]:\n",
    "        w2x = 1\n",
    "    else:\n",
    "        w2x = 0\n",
    "    #print(\"N2\", w2x)\n",
    "\n",
    "    w3x = 0\n",
    "    for idx, x in enumerate([w1x,w2x]):\n",
    "        w3x += x*W3[idx]\n",
    "    #print(\"N3\",w3x)\n",
    "\n",
    "    if w3x > threshold[2]:\n",
    "        #print(1)\n",
    "        return 1\n",
    "    else:\n",
    "        #print(0)\n",
    "        return 0\n",
    "\n",
    "W1 = [1, 1, 1] # griber den ene case\n",
    "W2 = [-1, -1, -1] # griber den anden case\n",
    "W3 = [1, 1] \n",
    "tresholds = [2.5, -0.5, .5]\n",
    "outputs = {}\n",
    "\n",
    "for x1 in range(2):\n",
    "    for x2 in range(2):\n",
    "        for x3 in range(2):\n",
    "            \n",
    "            outputs[x1,x2,x3] = three_two_one_network([x1,x2,x3],W1,W2,W3, tresholds)\n",
    "\n",
    "print((\"x1\",\"x2\",\"x3\"), \"output\")\n",
    "for k in outputs:\n",
    "    print(k, outputs[k])"
   ]
  },
  {
   "cell_type": "markdown",
   "metadata": {},
   "source": [
    "Jeg håber, det giver mening."
   ]
  }
 ],
 "metadata": {
  "kernelspec": {
   "display_name": "Python 3 (ipykernel)",
   "language": "python",
   "name": "python3"
  },
  "language_info": {
   "codemirror_mode": {
    "name": "ipython",
    "version": 3
   },
   "file_extension": ".py",
   "mimetype": "text/x-python",
   "name": "python",
   "nbconvert_exporter": "python",
   "pygments_lexer": "ipython3",
   "version": "3.7.13"
  }
 },
 "nbformat": 4,
 "nbformat_minor": 2
}
