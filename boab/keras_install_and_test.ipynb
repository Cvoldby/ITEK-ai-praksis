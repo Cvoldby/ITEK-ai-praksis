{
 "cells": [
  {
   "cell_type": "markdown",
   "id": "3eda1f3c-67a7-4f91-9c57-40039de00ace",
   "metadata": {},
   "source": [
    "## Install Keras 30-9-2024"
   ]
  },
  {
   "cell_type": "code",
   "execution_count": 1,
   "id": "0e4280d6-432e-49ff-8a1f-eb6f75ec90e2",
   "metadata": {},
   "outputs": [
    {
     "name": "stdout",
     "output_type": "stream",
     "text": [
      "3.5.0\n"
     ]
    }
   ],
   "source": [
    "import keras\n",
    "from keras import layers\n",
    "from keras import ops\n",
    "print(keras.__version__)\n"
   ]
  },
  {
   "cell_type": "code",
   "execution_count": 2,
   "id": "cec354de-9810-45c8-b3d3-3c962d6a1b36",
   "metadata": {},
   "outputs": [],
   "source": [
    "# Define Sequential model with 3 layers\n",
    "model = keras.Sequential(\n",
    "    [\n",
    "        layers.Dense(2, activation=\"relu\", name=\"layer1\"),\n",
    "        layers.Dense(3, activation=\"relu\", name=\"layer2\"),\n",
    "        layers.Dense(1, name=\"layer3\"),\n",
    "    ]\n",
    ")\n",
    "\n",
    "# Call model on a test input\n",
    "x = ops.ones((5, 2))\n",
    "y = model(x)"
   ]
  },
  {
   "cell_type": "code",
   "execution_count": 3,
   "id": "ba6c1aba-d183-4732-ab66-bb88b7ba5a2f",
   "metadata": {},
   "outputs": [
    {
     "name": "stdout",
     "output_type": "stream",
     "text": [
      "tf.Tensor(\n",
      "[[1. 1.]\n",
      " [1. 1.]\n",
      " [1. 1.]\n",
      " [1. 1.]\n",
      " [1. 1.]], shape=(5, 2), dtype=float32)\n",
      "tf.Tensor(\n",
      "[[-0.9104401]\n",
      " [-0.9104401]\n",
      " [-0.9104401]\n",
      " [-0.9104401]\n",
      " [-0.9104401]], shape=(5, 1), dtype=float32)\n"
     ]
    }
   ],
   "source": [
    "print(x)\n",
    "print(y)"
   ]
  },
  {
   "cell_type": "code",
   "execution_count": null,
   "id": "727b49c9-e3c6-4f0b-8d6f-7f577c961aa2",
   "metadata": {},
   "outputs": [],
   "source": []
  }
 ],
 "metadata": {
  "kernelspec": {
   "display_name": "Python 3 (ipykernel)",
   "language": "python",
   "name": "python3"
  },
  "language_info": {
   "codemirror_mode": {
    "name": "ipython",
    "version": 3
   },
   "file_extension": ".py",
   "mimetype": "text/x-python",
   "name": "python",
   "nbconvert_exporter": "python",
   "pygments_lexer": "ipython3",
   "version": "3.9.7"
  }
 },
 "nbformat": 4,
 "nbformat_minor": 5
}
