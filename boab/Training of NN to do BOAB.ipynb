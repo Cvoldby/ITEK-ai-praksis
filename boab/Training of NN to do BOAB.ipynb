{
 "cells": [
  {
   "cell_type": "markdown",
   "id": "1c60446b-52c6-49fa-a891-ca1aa71f69b2",
   "metadata": {},
   "source": [
    "## Træning af NN netværk til at udføre BOAB (træningsdata i csv-fil)"
   ]
  },
  {
   "cell_type": "markdown",
   "id": "7b4adefb-e929-4882-9b45-c8504aa82e47",
   "metadata": {},
   "source": [
    "Formålet er at kunne lave og træne et NN, der kontrollerer en \"Ball on a beam\"\n"
   ]
  },
  {
   "cell_type": "code",
   "execution_count": 1,
   "id": "1f41c258-f6d0-4e0d-89f0-5177f3d68ccd",
   "metadata": {},
   "outputs": [
    {
     "name": "stdout",
     "output_type": "stream",
     "text": [
      "     Ball position     Speed\n",
      "0       500.866520  0.866520\n",
      "1       502.154895  1.288375\n",
      "2       503.362471  1.207576\n",
      "3       505.044101  1.681631\n",
      "4       507.147896  2.103794\n",
      "..             ...       ...\n",
      "533     553.851048 -0.253212\n",
      "534     553.920810  0.069761\n",
      "535     553.485235 -0.435575\n",
      "536     553.155251 -0.329984\n",
      "537     553.161674  0.006423\n",
      "\n",
      "[538 rows x 2 columns]\n",
      "      Angle\n",
      "0  0.000000\n",
      "1 -0.000065\n",
      "2 -0.000598\n",
      "3 -0.001365\n",
      "4 -0.004279\n"
     ]
    }
   ],
   "source": [
    "import pandas as pd\n",
    "import numpy as np\n",
    "# from sklearn.model_selection import train_test_split\n",
    "\n",
    "df = pd.read_csv('training-data.csv')  # kan også læse excel filer med pd.read_excel() ikke testet\n",
    "\n",
    "X = pd.get_dummies(df.drop('Angle', axis=1)) # afstandsdata,hastighed\n",
    "Y = pd.get_dummies(df.drop(['Ball position', 'Speed'], axis=1)) # vinkel-data\n",
    "\n",
    "print(X) # input til AI\n",
    "print(Y.head()) # output fra AI"
   ]
  },
  {
   "cell_type": "code",
   "execution_count": 159,
   "id": "dd26ed18-65d3-4e66-8ab9-3b07c0734694",
   "metadata": {},
   "outputs": [],
   "source": [
    "from tensorflow.keras.models import Sequential, load_model\n",
    "from tensorflow.keras.layers import Dense\n",
    "\n",
    "model = Sequential() # tried tanh\n",
    "model.add(Dense(units=32, activation='relu', input_shape = (2,))) # 2 input til 30 neuroner i et skjult lag\n",
    "model.add(Dense(units=16, activation='relu')) # 1 input til 30 neuroner i et skjult lag\n",
    "model.add(Dense(units=1, activation='linear')) # sigmoid kan ikke bruges da positiv og negativ signal ønskes # (1) output\n",
    "\n",
    "model.compile(loss=\"mean_squared_error\", optimizer='Adam')#, metrics='accuracy') #sgd  loss='binary_crossentropy'/\"mean_squared_error\"\n"
   ]
  },
  {
   "cell_type": "code",
   "execution_count": 163,
   "id": "82bcdb0f-7ff2-4f28-acd5-06280e026f4c",
   "metadata": {},
   "outputs": [],
   "source": [
    "X_train = np.asarray(X).astype('float32')\n",
    "y_train = np.asarray(Y).astype('float32')\n",
    "\n",
    "# epochs - the number of walk through the entire dataset\n",
    "#batch the number of samples processed before the model is updated.\n",
    "history=model.fit(X_train, y_train, epochs=500, batch_size=100, verbose=0) "
   ]
  },
  {
   "cell_type": "code",
   "execution_count": 4,
   "id": "a9b16392-6c1b-4a76-9373-ca08c7bba746",
   "metadata": {},
   "outputs": [
    {
     "name": "stdout",
     "output_type": "stream",
     "text": [
      "0.0\n",
      "80.0\n",
      "80.0\n",
      "0.0\n",
      "5.0\n",
      "5.0\n",
      "0.0\n",
      "80.0\n",
      "80.0\n",
      "0.0\n",
      "40.0\n",
      "40.0\n"
     ]
    },
    {
     "ename": "NameError",
     "evalue": "name 'model' is not defined",
     "output_type": "error",
     "traceback": [
      "\u001b[1;31m---------------------------------------------------------------------------\u001b[0m",
      "\u001b[1;31mNameError\u001b[0m                                 Traceback (most recent call last)",
      "Cell \u001b[1;32mIn[4], line 7\u001b[0m\n\u001b[0;32m      3\u001b[0m \u001b[38;5;28;01mfor\u001b[39;00m td \u001b[38;5;129;01min\u001b[39;00m test_data:\n\u001b[0;32m      4\u001b[0m     \u001b[38;5;28mprint\u001b[39m(((td[\u001b[38;5;241m0\u001b[39m]\u001b[38;5;241m-\u001b[39m\u001b[38;5;241m500\u001b[39m)\u001b[38;5;241m/\u001b[39m\u001b[38;5;241m100\u001b[39m)\u001b[38;5;241m*\u001b[39m\u001b[38;5;241m*\u001b[39m\u001b[38;5;241m2\u001b[39m\u001b[38;5;241m*\u001b[39m\u001b[38;5;28mabs\u001b[39m(td[\u001b[38;5;241m1\u001b[39m]))\n\u001b[1;32m----> 7\u001b[0m b \u001b[38;5;241m=\u001b[39m \u001b[43mmodel\u001b[49m\u001b[38;5;241m.\u001b[39mpredict(test_data)    \u001b[38;5;66;03m#b  er vinklen  anbefalet af NN\u001b[39;00m\n\u001b[0;32m      8\u001b[0m \u001b[38;5;28mprint\u001b[39m(b)\n",
      "\u001b[1;31mNameError\u001b[0m: name 'model' is not defined"
     ]
    }
   ],
   "source": [
    "test_data = np.array([(100,0),(100,5),(100,-5),(600,0),(600,5),(600,-5),(900,0),(900,5),(900,-5),(700,0),(700,10),(700,-10)])   # (afst,speed),(afstand,speed)\n",
    "\n",
    "b = model.predict(test_data)    #b  er vinklen  anbefalet af NN\n",
    "print(b)"
   ]
  },
  {
   "cell_type": "code",
   "execution_count": 165,
   "id": "04454978-5ddf-460d-8db2-563482b92286",
   "metadata": {},
   "outputs": [],
   "source": [
    "model.save('file500.keras') "
   ]
  },
  {
   "cell_type": "code",
   "execution_count": null,
   "id": "69afb588-e345-4a46-9d52-b1025f047dac",
   "metadata": {},
   "outputs": [],
   "source": []
  }
 ],
 "metadata": {
  "kernelspec": {
   "display_name": "Python 3 (ipykernel)",
   "language": "python",
   "name": "python3"
  },
  "language_info": {
   "codemirror_mode": {
    "name": "ipython",
    "version": 3
   },
   "file_extension": ".py",
   "mimetype": "text/x-python",
   "name": "python",
   "nbconvert_exporter": "python",
   "pygments_lexer": "ipython3",
   "version": "3.9.7"
  }
 },
 "nbformat": 4,
 "nbformat_minor": 5
}
