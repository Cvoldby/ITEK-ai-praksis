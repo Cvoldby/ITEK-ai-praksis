{
 "cells": [
  {
   "cell_type": "markdown",
   "id": "1c60446b-52c6-49fa-a891-ca1aa71f69b2",
   "metadata": {},
   "source": [
    "## Træning af NN netværk til at udføre BOAB (træningsdata i csv-fil)"
   ]
  },
  {
   "cell_type": "markdown",
   "id": "7b4adefb-e929-4882-9b45-c8504aa82e47",
   "metadata": {},
   "source": [
    "Formålet er at kunne lave og træne et NN, der kontrollerer en \"Ball on a beam\"\n"
   ]
  },
  {
   "cell_type": "code",
   "execution_count": 1,
   "id": "1f41c258-f6d0-4e0d-89f0-5177f3d68ccd",
   "metadata": {},
   "outputs": [
    {
     "name": "stdout",
     "output_type": "stream",
     "text": [
      "           Ball position  Speed\n",
      " 0.041425              0    NaN\n",
      "-0.119713              0    NaN\n",
      "-0.659476              0    NaN\n",
      "-0.731992              0    NaN\n",
      "-0.595661              0    NaN\n",
      "              Angle\n",
      " 0.041425  0.041425\n",
      "-0.119713 -0.161138\n",
      "-0.659476 -0.539763\n",
      "-0.731992 -0.072516\n",
      "-0.595661  0.136332\n"
     ]
    }
   ],
   "source": [
    "import pandas as pd\n",
    "# from sklearn.model_selection import train_test_split\n",
    "\n",
    "df = pd.read_csv('training-data.csv')  # kan også læse excel filer med pd.read_excel() ikke testet\n",
    "\n",
    "X = pd.get_dummies(df.drop('Angle', axis=1)) # afstandsdata,hastighed\n",
    "Y = pd.get_dummies(df.drop(['Ball position', 'Speed'], axis=1)) # vinkel-data\n",
    "\n",
    "print(X.head()) # input til AI\n",
    "print(Y.head()) # output fra AI"
   ]
  },
  {
   "cell_type": "code",
   "execution_count": 2,
   "id": "dd26ed18-65d3-4e66-8ab9-3b07c0734694",
   "metadata": {},
   "outputs": [
    {
     "name": "stderr",
     "output_type": "stream",
     "text": [
      "C:\\Users\\chr_v\\Documents\\eaa23itek\\3semester\\Kunstig-Intelligens\\ai\\lib\\site-packages\\keras\\src\\layers\\core\\dense.py:87: UserWarning: Do not pass an `input_shape`/`input_dim` argument to a layer. When using Sequential models, prefer using an `Input(shape)` object as the first layer in the model instead.\n",
      "  super().__init__(activity_regularizer=activity_regularizer, **kwargs)\n"
     ]
    }
   ],
   "source": [
    "from tensorflow.keras.models import Sequential, load_model\n",
    "from tensorflow.keras.layers import Dense\n",
    "\n",
    "model = Sequential()                   #tried tanh\n",
    "model.add(Dense(units=30, activation='relu', input_shape = (2,)))                                                              # 2 input til 30 neuroner i et skjult lag\n",
    "model.add(Dense(units=30, activation='relu'))                                                              # 1 input til 30 neuroner i et skjult lag\n",
    "model.add(Dense(units=1, activation='linear'))  #sigmoid kan ikke bruges da positiv og negativ signal ønskes            # (1) output\n",
    "\n",
    "model.compile(loss=\"mean_squared_error\", optimizer='Adam')#, metrics='accuracy')  #sgd  loss='binary_crossentropy'/\"mean_squared_error\"\n"
   ]
  },
  {
   "cell_type": "code",
   "execution_count": 3,
   "id": "c47db973-19f5-4160-b57c-442e277efc67",
   "metadata": {},
   "outputs": [],
   "source": [
    "import numpy as np\n",
    "\n",
    "X_train = np.asarray(X).astype('float32')\n",
    "y_train = np.asarray(Y).astype('float32')\n"
   ]
  },
  {
   "cell_type": "code",
   "execution_count": 4,
   "id": "faf377d2-6fa7-4ac3-a5ab-996b4b84ccc5",
   "metadata": {},
   "outputs": [],
   "source": [
    "# epochs - the number of walk through the entire dataset\n",
    "#batch the number of samples processed before the model is updated.\n",
    "history=model.fit(X_train, y_train, epochs=200, batch_size=50, verbose=0) "
   ]
  },
  {
   "cell_type": "code",
   "execution_count": 5,
   "id": "a9b16392-6c1b-4a76-9373-ca08c7bba746",
   "metadata": {},
   "outputs": [
    {
     "name": "stdout",
     "output_type": "stream",
     "text": [
      "\u001b[1m1/1\u001b[0m \u001b[32m━━━━━━━━━━━━━━━━━━━━\u001b[0m\u001b[37m\u001b[0m \u001b[1m0s\u001b[0m 42ms/step\n",
      "[[-0.02111083]\n",
      " [-0.02111083]\n",
      " [-0.02111083]\n",
      " [-0.02111083]\n",
      " [-0.02111083]\n",
      " [-0.02111083]\n",
      " [-0.02111083]\n",
      " [-0.02111083]\n",
      " [-0.02111083]\n",
      " [-0.02111083]\n",
      " [-0.02111083]\n",
      " [-0.02111083]]\n"
     ]
    }
   ],
   "source": [
    "test_data = np.array([(100,0),(100,5),(100,-5),(600,0),(600,5),(600,-5),(900,0),(900,5),(900,-5),(700,0),(700,10),(700,-10)])   # (afst,speed),(afstand,speed)\n",
    "\n",
    "b = model.predict(test_data)    #b  er vinklen  anbefalet af NN\n",
    "print(b)"
   ]
  },
  {
   "cell_type": "code",
   "execution_count": 6,
   "id": "04454978-5ddf-460d-8db2-563482b92286",
   "metadata": {},
   "outputs": [],
   "source": [
    "model.save('file.keras') "
   ]
  },
  {
   "cell_type": "code",
   "execution_count": null,
   "id": "69afb588-e345-4a46-9d52-b1025f047dac",
   "metadata": {},
   "outputs": [],
   "source": []
  }
 ],
 "metadata": {
  "kernelspec": {
   "display_name": "Python 3 (ipykernel)",
   "language": "python",
   "name": "python3"
  },
  "language_info": {
   "codemirror_mode": {
    "name": "ipython",
    "version": 3
   },
   "file_extension": ".py",
   "mimetype": "text/x-python",
   "name": "python",
   "nbconvert_exporter": "python",
   "pygments_lexer": "ipython3",
   "version": "3.9.7"
  }
 },
 "nbformat": 4,
 "nbformat_minor": 5
}
