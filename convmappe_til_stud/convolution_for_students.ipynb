{
 "cells": [
  {
   "cell_type": "markdown",
   "id": "6a8ed6f7-433a-4a19-94d9-619b072dc587",
   "metadata": {},
   "source": [
    "# Focusing on the displaying and conversion of pictures.(Notebook holding a number of convolution tests/experiments)"
   ]
  },
  {
   "cell_type": "code",
   "execution_count": 1,
   "id": "887d0f8b-5436-4c72-b7eb-0c73947ad9b2",
   "metadata": {},
   "outputs": [],
   "source": [
    "import cv2\n",
    "import numpy as np\n",
    "from matplotlib import pyplot as plt"
   ]
  },
  {
   "cell_type": "code",
   "execution_count": 2,
   "id": "8c563e3a-6dfb-4735-be70-e417674adbcb",
   "metadata": {},
   "outputs": [],
   "source": [
    "def processImage(image):\n",
    "    \"\"\"\n",
    "    Read image from filename, convert to B6W and return processed image\n",
    "    \"\"\"\n",
    "    image = cv2.imread(image)  # BGR cv2.imread vil altid give  BGR-format\n",
    "    image = cv2.cvtColor(src=image, code=cv2.COLOR_BGR2GRAY)\n",
    "    return image\n"
   ]
  },
  {
   "cell_type": "code",
   "execution_count": 3,
   "id": "c96c26f3-dd6c-4b9c-bdff-511e8914a386",
   "metadata": {},
   "outputs": [
    {
     "data": {
      "text/plain": [
       "\"\\ncv2.imwrite('sorthvid.jpg',image)  #billedet er sort hvid  med windows-billedviser\\n\\nplt.imshow(image, cmap='Greys_r', interpolation='nearest')  #besværgelser for at få imshow til ikke at bruge farver\\nplt.axis('off')  # Hide axes\\nplt.show()\\n\""
      ]
     },
     "execution_count": 3,
     "metadata": {},
     "output_type": "execute_result"
    }
   ],
   "source": [
    "# test proces function\n",
    "image = processImage('brabrand.jpeg')\n",
    "\"\"\"\n",
    "cv2.imwrite('sorthvid.jpg',image)  #billedet er sort hvid  med windows-billedviser\n",
    "\n",
    "plt.imshow(image, cmap='Greys_r', interpolation='nearest')  #besværgelser for at få imshow til ikke at bruge farver\n",
    "plt.axis('off')  # Hide axes\n",
    "plt.show()\n",
    "\"\"\""
   ]
  },
  {
   "cell_type": "code",
   "execution_count": 4,
   "id": "e62792bc-965a-491c-b811-c0c30375ca80",
   "metadata": {},
   "outputs": [],
   "source": [
    "def convolve2D(image, kernel, padding=0, strides=1):  #her defineres convolution\n",
    "    # Cross Correlation\n",
    "    kernel = np.flipud(np.fliplr(kernel))\n",
    "\n",
    "    # Gather Shapes of Kernel + Image + Padding\n",
    "    xKernShape = kernel.shape[0]\n",
    "    yKernShape = kernel.shape[1]\n",
    "    xImgShape = image.shape[0]\n",
    "    yImgShape = image.shape[1]\n",
    "\n",
    "    # Shape of Output Convolution\n",
    "    xOutput = int(((xImgShape - xKernShape + 2 * padding) / strides) + 1)\n",
    "    yOutput = int(((yImgShape - yKernShape + 2 * padding) / strides) + 1)\n",
    "    output = np.zeros((xOutput, yOutput))\n",
    "\n",
    "    # Apply Equal Padding to All Sides\n",
    "    if padding != 0:\n",
    "        imagePadded = np.zeros((image.shape[0] + padding*2, image.shape[1] + padding*2))\n",
    "        imagePadded[int(padding):int(-1 * padding), int(padding):int(-1 * padding)] = image\n",
    "    else:\n",
    "        imagePadded = image\n",
    "\n",
    "    # Iterate through image\n",
    "    for y in range(image.shape[1]):\n",
    "        # Exit Convolution\n",
    "        if y > image.shape[1] - yKernShape:\n",
    "            break\n",
    "        # Only Convolve if y has gone down by the specified Strides\n",
    "        if y % strides == 0:\n",
    "            for x in range(image.shape[0]):\n",
    "                # Go to next row once kernel is out of bounds\n",
    "                if x > image.shape[0] - xKernShape:\n",
    "                    break\n",
    "                try:\n",
    "                    # Only Convolve if x has moved by the specified Strides\n",
    "                    if x % strides == 0:\n",
    "                        output[x, y] = (kernel * imagePadded[x: x + xKernShape, y: y + yKernShape]).sum()\n",
    "                except:\n",
    "                    break\n",
    "\n",
    "    return output\n"
   ]
  },
  {
   "cell_type": "code",
   "execution_count": 5,
   "id": "0d000401-2cb9-4572-b592-1aeccffd4f08",
   "metadata": {},
   "outputs": [],
   "source": [
    " kernel = np.array([[-1, -1, -1], [-1, 8, -1], [-1, -1, -1]])"
   ]
  },
  {
   "cell_type": "code",
   "execution_count": 8,
   "id": "a15291f6-12d1-487e-8695-09e938bc88e0",
   "metadata": {},
   "outputs": [],
   "source": [
    " kernel = np.array([[-1, -1, -1, -1, -1], \n",
    "                    [-1,  1,  2,  1, -1], \n",
    "                    [-1,  2,  4,  2, -1],\n",
    "                    [-1,  1,  2,  1, -1],\n",
    "                    [-1, -1, -1, -1, -1]])"
   ]
  },
  {
   "cell_type": "code",
   "execution_count": null,
   "id": "f66e7c44-4a2e-4e40-a28e-14afb437952c",
   "metadata": {},
   "outputs": [],
   "source": [
    "output = convolve2D(image, kernel, padding=2,strides=1)\n",
    "\n",
    "\n",
    "plt.imshow(output, cmap='gray', vmin=0, vmax=127) #cmap='Greys_r', interpolation='nearest')  #besværgelser for at få imshow til ikke at bruge farver\n",
    "plt.axis('off')  # Hide axes\n",
    "plt.show()"
   ]
  },
  {
   "cell_type": "code",
   "execution_count": null,
   "id": "06c28ce7-055d-4dee-bdde-c465a677ccee",
   "metadata": {},
   "outputs": [],
   "source": []
  }
 ],
 "metadata": {
  "kernelspec": {
   "display_name": "Python 3 (ipykernel)",
   "language": "python",
   "name": "python3"
  },
  "language_info": {
   "codemirror_mode": {
    "name": "ipython",
    "version": 3
   },
   "file_extension": ".py",
   "mimetype": "text/x-python",
   "name": "python",
   "nbconvert_exporter": "python",
   "pygments_lexer": "ipython3",
   "version": "3.9.7"
  }
 },
 "nbformat": 4,
 "nbformat_minor": 5
}
